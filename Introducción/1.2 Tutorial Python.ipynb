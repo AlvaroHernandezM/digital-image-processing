{
 "cells": [
  {
   "cell_type": "markdown",
   "metadata": {},
   "source": [
    "# Tutorial de Python\n",
    "\n",
    "Adaptado al español por Jorge Martínez de la clase CS231n por Justin johnson (http://cs231n.github.io/python-numpy-tutorial/). La definición de las funciones se mantienen sin cambio slguno.\n"
   ]
  },
  {
   "cell_type": "markdown",
   "metadata": {},
   "source": [
    "## Introducción\n",
    "\n",
    "Python es un lenguaje de programación de propósito general por defecto. Sin embargo, con la ayuda de unas pocas librerías (numpy, scipy, matplotlib), se constituye en un entorno de desarrollo para propósitos científico.\n",
    "\n",
    "Se espera que muchos de ustedes tengan alguna experiencia con Python y numpy; para el resto, este tutorial sirve como un curso rápido  en el lenguaje de programación de Python y en su uso para computación científica. \n",
    "\n",
    "Algunos de ustedes pueden tener conocimientos previos en Matlab, en cuyo caso también se recomienda la página numpy para usuarios de Matlab (https://docs.scipy.org/doc/numpy-dev/user/numpy-for-matlab-users.html )."
   ]
  },
  {
   "cell_type": "markdown",
   "metadata": {},
   "source": [
    "## Tipo de variables\n",
    "\n",
    "### Números"
   ]
  },
  {
   "cell_type": "code",
   "execution_count": 2,
   "metadata": {},
   "outputs": [
    {
     "name": "stdout",
     "output_type": "stream",
     "text": [
      "3 <class 'int'>\n"
     ]
    }
   ],
   "source": [
    "x = 3\n",
    "print(x, type(x))"
   ]
  },
  {
   "cell_type": "code",
   "execution_count": 4,
   "metadata": {},
   "outputs": [
    {
     "name": "stdout",
     "output_type": "stream",
     "text": [
      "4\n",
      "2\n",
      "6\n",
      "9\n"
     ]
    }
   ],
   "source": [
    "print(x + 1)   # Adición;\n",
    "print(x - 1)   # sustracción;\n",
    "print(x * 2)   # Multiplicación;\n",
    "print(x ** 2)  # Operación Potencia;"
   ]
  },
  {
   "cell_type": "code",
   "execution_count": 5,
   "metadata": {},
   "outputs": [
    {
     "name": "stdout",
     "output_type": "stream",
     "text": [
      "4\n",
      "8\n"
     ]
    }
   ],
   "source": [
    "x += 1\n",
    "print(x)  # Imprime \"4\"\n",
    "x *= 2\n",
    "print(x)  # Imprime \"8\""
   ]
  },
  {
   "cell_type": "code",
   "execution_count": 6,
   "metadata": {},
   "outputs": [
    {
     "name": "stdout",
     "output_type": "stream",
     "text": [
      "<class 'float'>\n",
      "2.5 3.5 5.0 6.25\n"
     ]
    }
   ],
   "source": [
    "y = 2.5\n",
    "print(type(y)) # Imprime \"<class 'float'>\"\n",
    "print(y, y + 1, y * 2, y ** 2) # Imprime \"2.5 3.5 5.0 6.25\""
   ]
  },
  {
   "cell_type": "markdown",
   "metadata": {},
   "source": [
    "Diferente a otros lenguajes, Python no contiene operadores de incremento unario (x++), ni de decremento (x--(\n",
    "\n",
    "Python tambien contiene tipos de variables para entero largo y números complejos. Es posible encontrar todos los detalles en la [documentación](https://docs.python.org/2/library/stdtypes.html#numeric-types-int-float-long-complex)."
   ]
  },
  {
   "cell_type": "markdown",
   "metadata": {},
   "source": [
    "### Booleanos\n",
    "\n",
    "Python implementa todos los operadores visuales de lógica booleana. Sin embargo, utiliza letras en vez de símbolos (`&&`, `||`, etc.):"
   ]
  },
  {
   "cell_type": "code",
   "execution_count": 9,
   "metadata": {},
   "outputs": [
    {
     "name": "stdout",
     "output_type": "stream",
     "text": [
      "<class 'bool'>\n"
     ]
    }
   ],
   "source": [
    "t, f = True, False\n",
    "print(type(t)) # Imprime \"<class 'bool'>\""
   ]
  },
  {
   "cell_type": "code",
   "execution_count": 8,
   "metadata": {},
   "outputs": [
    {
     "name": "stdout",
     "output_type": "stream",
     "text": [
      "False\n",
      "True\n",
      "False\n",
      "True\n"
     ]
    }
   ],
   "source": [
    "print(t and f) # Logical AND;\n",
    "print(t or f)  # Logical OR;\n",
    "print(not t)   # Logical NOT;\n",
    "print(t != f)  # Logical XOR;"
   ]
  },
  {
   "cell_type": "markdown",
   "metadata": {},
   "source": [
    "### Cadenas de texto."
   ]
  },
  {
   "cell_type": "code",
   "execution_count": 10,
   "metadata": {},
   "outputs": [
    {
     "name": "stdout",
     "output_type": "stream",
     "text": [
      "Hola 4\n"
     ]
    }
   ],
   "source": [
    "hello = 'Hola'    # Valores de texto se encierran en comillas simples\n",
    "world = \"Mundo\"   # O dobles; No interesa.\n",
    "print(hello, len(hello))"
   ]
  },
  {
   "cell_type": "code",
   "execution_count": null,
   "metadata": {
    "collapsed": true
   },
   "outputs": [],
   "source": [
    "hw = hello + ' ' + world  # Concatenación de caracte\n"
   ]
  }
 ],
 "metadata": {
  "kernelspec": {
   "display_name": "Python 3",
   "language": "python",
   "name": "python3"
  },
  "language_info": {
   "codemirror_mode": {
    "name": "ipython",
    "version": 3
   },
   "file_extension": ".py",
   "mimetype": "text/x-python",
   "name": "python",
   "nbconvert_exporter": "python",
   "pygments_lexer": "ipython3",
   "version": "3.5.1"
  }
 },
 "nbformat": 4,
 "nbformat_minor": 2
}
